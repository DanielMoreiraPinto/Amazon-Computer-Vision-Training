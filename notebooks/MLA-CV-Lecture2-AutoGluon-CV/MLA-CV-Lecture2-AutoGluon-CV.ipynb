{
 "cells": [
  {
   "cell_type": "markdown",
   "metadata": {},
   "source": [
    "![MLU Logo](../../data/MLU_Logo.png)"
   ]
  },
  {
   "cell_type": "markdown",
   "metadata": {},
   "source": [
    "# <a name=\"0\">Machine Learning Accelerator - Computer Vision - Lecture 2</a>\n",
    "\n",
    "\n",
    "## Customized Image Classification with AutoGluon\n",
    "\n",
    "    \n",
    "In this notebook, we load images and the corresponding labels into [AutoGluon](https://autogluon.mxnet.io/index.html) and use this data to obtain a neural network that can classify new images. \n",
    "\n",
    "This is different from traditional machine learning where we need to manually define the neural network and then specify the hyperparameters in the training process. Instead, with just a single call to AutoGluon’s fit function, AutoGluon automatically trains many models with different hyperparameter configurations and returns the model that achieved the highest level of accuracy.\n",
    "\n",
    "**Note**: Please use **GPU** for training. CPU training will lead to an unceasing running script. \n",
    "\n",
    "1. <a href=\"#1\">AutoGluon Data Format</a>      \n",
    "2. <a href=\"#2\">Downloading Data</a>\n",
    "3. <a href=\"#3\">Using AutoGluon to Fit Models</a>\n",
    "4. <a href=\"#4\">Understanding Model Results</a>\n"
   ]
  },
  {
   "cell_type": "code",
   "execution_count": 1,
   "metadata": {},
   "outputs": [
    {
     "name": "stdout",
     "output_type": "stream",
     "text": [
      "aws-mxnet-cu101mkl                 1.6.0     \n",
      "mxnet-cu101mkl                     1.6.0     \n",
      "\u001b[33mYou are using pip version 10.0.1, however version 20.2b1 is available.\n",
      "You should consider upgrading via the 'pip install --upgrade pip' command.\u001b[0m\n"
     ]
    }
   ],
   "source": [
    "## make sure that `mxnet-cu101` (for GPU) shows here, rather than `mxnet` (for CPU)\n",
    "!pip list | egrep mxnet-cu101"
   ]
  },
  {
   "cell_type": "code",
   "execution_count": 2,
   "metadata": {
    "scrolled": true
   },
   "outputs": [
    {
     "name": "stdout",
     "output_type": "stream",
     "text": [
      "\u001b[33mYou are using pip version 10.0.1, however version 20.2b1 is available.\n",
      "You should consider upgrading via the 'pip install --upgrade pip' command.\u001b[0m\n",
      "autogluon                          0.0.9     \n",
      "\u001b[33mYou are using pip version 10.0.1, however version 20.2b1 is available.\n",
      "You should consider upgrading via the 'pip install --upgrade pip' command.\u001b[0m\n"
     ]
    }
   ],
   "source": [
    "## install autogluon\n",
    "!pip install -q autogluon==0.0.9\n",
    "!pip list | egrep autogluon"
   ]
  },
  {
   "cell_type": "code",
   "execution_count": 3,
   "metadata": {},
   "outputs": [
    {
     "name": "stderr",
     "output_type": "stream",
     "text": [
      "/home/ec2-user/anaconda3/envs/mxnet_p36/lib/python3.6/site-packages/mxnet/optimizer/optimizer.py:167: UserWarning: WARNING: New optimizer gluonnlp.optimizer.lamb.LAMB is overriding existing optimizer mxnet.optimizer.optimizer.LAMB\n",
      "  Optimizer.opt_registry[name].__name__))\n"
     ]
    }
   ],
   "source": [
    "import autogluon as ag\n",
    "from autogluon import ImageClassification as task"
   ]
  },
  {
   "cell_type": "markdown",
   "metadata": {},
   "source": [
    "## 1. <a name=\"1\">AutoGluon Data Format</a>\n",
    "(<a href=\"#0\">Go to top</a>)\n",
    "\n",
    "To use AutoGluon for computer vision task training, we need to organize our data with the following structure:\n",
    "\n",
    "    data/\n",
    "    ├── train/\n",
    "        ├── class1/\n",
    "        ├── class2/\n",
    "        ├── class3/\n",
    "        ├── ...\n",
    "    ├── test/\n",
    "        ├── class1/\n",
    "        ├── class2/\n",
    "        ├── class3/\n",
    "        ├── ...\n",
    "\n",
    "Here each subfolder contains all images that belong to that category, e.g., `class1` contains all images belonging to the first class. We generally recommend at least 100 training images per class for reasonable classification performance, but this might depend on the type of images in your specific use-case."
   ]
  },
  {
   "cell_type": "markdown",
   "metadata": {},
   "source": [
    "## 2. <a name=\"2\">Downloading Data</a>\n",
    "(<a href=\"#0\">Go to top</a>)\n",
    "\n",
    "For demonstration purposes, we use a subset of the [Shopee-IET](https://www.kaggle.com/c/shopee-iet-machine-learning-competition/data) dataset from Kaggle. Each image in this data depicts a clothing item and the corresponding label specifies its clothing category. Our subset of the data contains the following possible labels: BabyPants, BabyShirt, womencasualshoes, womenchiffontop.\n",
    "\n",
    "We download the data subset and unzip it using the following commands:"
   ]
  },
  {
   "cell_type": "code",
   "execution_count": 4,
   "metadata": {},
   "outputs": [
    {
     "name": "stderr",
     "output_type": "stream",
     "text": [
      "Downloading shopee-iet.zip from https://autogluon.s3.amazonaws.com/datasets/shopee-iet.zip...\n"
     ]
    },
    {
     "data": {
      "application/vnd.jupyter.widget-view+json": {
       "model_id": "77af1d56ee9149a09544eb0ff332e88f",
       "version_major": 2,
       "version_minor": 0
      },
      "text/plain": [
       "VBox(children=(HBox(children=(IntProgress(value=0, layout=Layout(flex='2'), max=40895), HTML(value=''))), HTML…"
      ]
     },
     "metadata": {},
     "output_type": "display_data"
    },
    {
     "name": "stdout",
     "output_type": "stream",
     "text": [
      "\n"
     ]
    },
    {
     "data": {
      "text/plain": [
       "'data'"
      ]
     },
     "execution_count": 4,
     "metadata": {},
     "output_type": "execute_result"
    }
   ],
   "source": [
    "filename = ag.download('https://autogluon.s3.amazonaws.com/datasets/shopee-iet.zip')\n",
    "ag.unzip(\"shopee-iet.zip\")"
   ]
  },
  {
   "cell_type": "markdown",
   "metadata": {},
   "source": [
    "After the dataset is downloaded, we can check out the `data` folder, which manifests the folder structure as we desicribe above. Now let's load `train` and `test` into the `Dataset` object `train_dataset` and `test_dataset`, respectively."
   ]
  },
  {
   "cell_type": "code",
   "execution_count": 5,
   "metadata": {},
   "outputs": [],
   "source": [
    "train_dataset = task.Dataset('data/train')\n",
    "test_dataset = task.Dataset('data/test', train=False)"
   ]
  },
  {
   "cell_type": "markdown",
   "metadata": {},
   "source": [
    "## 3. <a name=\"3\">Using AutoGluon to Fit Models</a>\n",
    "(<a href=\"#0\">Go to top</a>)\n",
    "\n",
    "Now, let's fit a classifier using AutoGluon [task.fit()](https://autogluon.mxnet.io/api/autogluon.task.html#autogluon.task.ImageClassification.fit). The default search network is set as ResNet50 and ResNet18."
   ]
  },
  {
   "cell_type": "code",
   "execution_count": 6,
   "metadata": {},
   "outputs": [
    {
     "name": "stderr",
     "output_type": "stream",
     "text": [
      "Starting Experiments\n",
      "Num of Finished Tasks is 0\n",
      "Num of Pending Tasks is 2\n",
      "Time out (secs) is 600\n"
     ]
    },
    {
     "name": "stdout",
     "output_type": "stream",
     "text": [
      "scheduler: FIFOScheduler(\n",
      "DistributedResourceManager{\n",
      "(Remote: Remote REMOTE_ID: 0, \n",
      "\t<Remote: 'inproc://172.16.52.239/22895/1' processes=1 threads=4, memory=64.38 GB>, Resource: NodeResourceManager(4 CPUs, 1 GPUs))\n",
      "})\n",
      "\n"
     ]
    },
    {
     "data": {
      "application/vnd.jupyter.widget-view+json": {
       "model_id": "0d295e8cea504286ad59382e32cf9a99",
       "version_major": 2,
       "version_minor": 0
      },
      "text/plain": [
       "HBox(children=(FloatProgress(value=0.0, max=2.0), HTML(value='')))"
      ]
     },
     "metadata": {},
     "output_type": "display_data"
    },
    {
     "name": "stderr",
     "output_type": "stream",
     "text": [
      "Model file not found. Downloading.\n"
     ]
    },
    {
     "name": "stdout",
     "output_type": "stream",
     "text": [
      "Downloading /home/ec2-user/.mxnet/models/resnet50_v1b-0ecdba34.zip from https://apache-mxnet.s3-accelerate.dualstack.amazonaws.com/gluon/models/resnet50_v1b-0ecdba34.zip...\n"
     ]
    },
    {
     "name": "stderr",
     "output_type": "stream",
     "text": [
      "100%|██████████| 55344/55344 [00:01<00:00, 39550.55KB/s]\n"
     ]
    },
    {
     "data": {
      "application/vnd.jupyter.widget-view+json": {
       "model_id": "05ec543995fc416db449b4c5a8255044",
       "version_major": 2,
       "version_minor": 0
      },
      "text/plain": [
       "VBox(children=(HBox(children=(IntProgress(value=0, max=10), HTML(value=''))), HTML(value='')))"
      ]
     },
     "metadata": {},
     "output_type": "display_data"
    },
    {
     "name": "stdout",
     "output_type": "stream",
     "text": [
      "\n",
      "\n",
      "\n",
      "\n"
     ]
    },
    {
     "name": "stderr",
     "output_type": "stream",
     "text": [
      "Saving Training Curve in checkpoint/plot_training_curves.png\n"
     ]
    },
    {
     "data": {
      "image/png": "[encoded data removed]",
      "text/plain": [
       "<Figure size 432x288 with 1 Axes>"
      ]
     },
     "metadata": {},
     "output_type": "display_data"
    }
   ],
   "source": [
    "time_limits = 10 * 60 # how long fit() should run (in seconds)\n",
    "classifier = task.fit(train_dataset, \n",
    "#                       net=['ResNet50_v1b', 'ResNet18_v1b'], # default\n",
    "                      epochs=10,\n",
    "                      time_limits=time_limits,\n",
    "                      ngpus_per_trial=1, \n",
    "                      verbose=False)"
   ]
  },
  {
   "cell_type": "markdown",
   "metadata": {},
   "source": [
    "## 4. <a name=\"4\">Understanding Model Results</a>\n",
    "(<a href=\"#0\">Go to top</a>)\n",
    "\n",
    "Autogluon also provides the training details, which can be accessed by calling `classifier.results`. For example, the default setting of `search_space` is to randomly search in candidate neural networks [ResNet50_v1b, ResNet18_v1b], with learning rate in $[0.001, 0.01]$ and weight decay in $[0.0001, 0.001]$."
   ]
  },
  {
   "cell_type": "code",
   "execution_count": 7,
   "metadata": {},
   "outputs": [
    {
     "data": {
      "text/plain": [
       "OrderedDict([('net.choice', Categorical['ResNet50_v1b', 'ResNet18_v1b']),\n",
       "             ('optimizer.learning_rate', Real: lower=0.001, upper=0.01),\n",
       "             ('optimizer.wd', Real: lower=0.0001, upper=0.001)])"
      ]
     },
     "execution_count": 7,
     "metadata": {},
     "output_type": "execute_result"
    }
   ],
   "source": [
    "classifier.results[\"search_space\"]"
   ]
  },
  {
   "cell_type": "markdown",
   "metadata": {},
   "source": [
    "The best model's result and the total training time are also logged by `classifier.results` as below:"
   ]
  },
  {
   "cell_type": "code",
   "execution_count": 8,
   "metadata": {},
   "outputs": [
    {
     "name": "stdout",
     "output_type": "stream",
     "text": [
      "Top-1 validation accuracy: 0.656\n",
      "Total Training Time : 551.3745880126953\n"
     ]
    }
   ],
   "source": [
    "print('Top-1 validation accuracy: %.3f' % classifier.results['best_reward'])\n",
    "print('Total Training Time : {}'.format(classifier.results['total_time']))\n"
   ]
  },
  {
   "cell_type": "markdown",
   "metadata": {},
   "source": [
    "To understand how does each candidate neural network perform, we can obtain further insights in `classifier.results[\"trial_info\"]`:"
   ]
  },
  {
   "cell_type": "code",
   "execution_count": 9,
   "metadata": {},
   "outputs": [
    {
     "data": {
      "text/plain": [
       "{'0': {'config': {'net.choice': 0,\n",
       "   'optimizer.learning_rate': 0.0031622777,\n",
       "   'optimizer.wd': 0.0003162278},\n",
       "  'history': [{'epoch': 1,\n",
       "    'classification_reward': 0.3625,\n",
       "    'time_this_iter': 28.8189754486084,\n",
       "    'time_since_start': 28.95328950881958},\n",
       "   {'epoch': 2,\n",
       "    'classification_reward': 0.44375,\n",
       "    'time_this_iter': 17.289016246795654,\n",
       "    'time_since_start': 46.24141311645508},\n",
       "   {'epoch': 3,\n",
       "    'classification_reward': 0.4625,\n",
       "    'time_this_iter': 17.210651397705078,\n",
       "    'time_since_start': 63.45209312438965},\n",
       "   {'epoch': 4,\n",
       "    'classification_reward': 0.5125,\n",
       "    'time_this_iter': 17.68919348716736,\n",
       "    'time_since_start': 81.14130783081055},\n",
       "   {'epoch': 5,\n",
       "    'classification_reward': 0.5875,\n",
       "    'time_this_iter': 17.155976057052612,\n",
       "    'time_since_start': 98.29706311225891},\n",
       "   {'epoch': 6,\n",
       "    'classification_reward': 0.58125,\n",
       "    'time_this_iter': 17.281928539276123,\n",
       "    'time_since_start': 115.5789086818695},\n",
       "   {'epoch': 7,\n",
       "    'classification_reward': 0.5625,\n",
       "    'time_this_iter': 17.307819366455078,\n",
       "    'time_since_start': 132.88679695129395},\n",
       "   {'epoch': 8,\n",
       "    'classification_reward': 0.61875,\n",
       "    'time_this_iter': 17.196588039398193,\n",
       "    'time_since_start': 150.08379578590393},\n",
       "   {'epoch': 9,\n",
       "    'classification_reward': 0.60625,\n",
       "    'time_this_iter': 17.170972108840942,\n",
       "    'time_since_start': 167.25515055656433},\n",
       "   {'epoch': 10,\n",
       "    'time_this_iter': 17.18016219139099,\n",
       "    'time_since_start': 184.43489003181458}],\n",
       "  'metadata': {'epoch': 10,\n",
       "   'time_this_iter': 17.18016219139099,\n",
       "   'time_since_start': 184.43489003181458},\n",
       "  'classification_reward': 0.575},\n",
       " '1': {'config': {'net.choice': 0,\n",
       "   'optimizer.learning_rate': 0.004350975063803458,\n",
       "   'optimizer.wd': 0.0007124564398589832},\n",
       "  'history': [{'epoch': 1,\n",
       "    'classification_reward': 0.41875,\n",
       "    'time_this_iter': 20.922337770462036,\n",
       "    'time_since_start': 205.59606981277466},\n",
       "   {'epoch': 2,\n",
       "    'classification_reward': 0.5125,\n",
       "    'time_this_iter': 17.127434253692627,\n",
       "    'time_since_start': 222.72299885749817},\n",
       "   {'epoch': 3,\n",
       "    'classification_reward': 0.5875,\n",
       "    'time_this_iter': 17.31481146812439,\n",
       "    'time_since_start': 240.0373604297638},\n",
       "   {'epoch': 4,\n",
       "    'classification_reward': 0.58125,\n",
       "    'time_this_iter': 17.667388439178467,\n",
       "    'time_since_start': 257.7049686908722},\n",
       "   {'epoch': 5,\n",
       "    'classification_reward': 0.65625,\n",
       "    'time_this_iter': 17.203659534454346,\n",
       "    'time_since_start': 274.90845680236816},\n",
       "   {'epoch': 6,\n",
       "    'classification_reward': 0.66875,\n",
       "    'time_this_iter': 17.345555305480957,\n",
       "    'time_since_start': 292.25464248657227},\n",
       "   {'epoch': 7,\n",
       "    'classification_reward': 0.60625,\n",
       "    'time_this_iter': 17.221710443496704,\n",
       "    'time_since_start': 309.47621989250183},\n",
       "   {'epoch': 8,\n",
       "    'classification_reward': 0.63125,\n",
       "    'time_this_iter': 17.139689922332764,\n",
       "    'time_since_start': 326.6156268119812},\n",
       "   {'epoch': 9,\n",
       "    'classification_reward': 0.68125,\n",
       "    'time_this_iter': 17.298235654830933,\n",
       "    'time_since_start': 343.9138000011444},\n",
       "   {'epoch': 10,\n",
       "    'time_this_iter': 17.28145170211792,\n",
       "    'time_since_start': 361.19536113739014}],\n",
       "  'metadata': {'epoch': 10,\n",
       "   'time_this_iter': 17.28145170211792,\n",
       "   'time_since_start': 361.19536113739014},\n",
       "  'classification_reward': 0.65625}}"
      ]
     },
     "execution_count": 9,
     "metadata": {},
     "output_type": "execute_result"
    }
   ],
   "source": [
    "classifier.results[\"trial_info\"]"
   ]
  },
  {
   "cell_type": "markdown",
   "metadata": {},
   "source": [
    "From above, we can conclude that the ResNet50_v1b will return us better results than ResNet18_v1b. \n",
    "\n",
    "You can also customize the search space and hyperparameter optimization (HPO) by modify the default parameters of `task.fit()`. More details are in this [tutorial](https://autogluon.mxnet.io/tutorials/image_classification/hpo.html)!"
   ]
  }
 ],
 "metadata": {
  "kernelspec": {
   "display_name": "conda_mxnet_p36",
   "language": "python",
   "name": "conda_mxnet_p36"
  },
  "language_info": {
   "codemirror_mode": {
    "name": "ipython",
    "version": 3
   },
   "file_extension": ".py",
   "mimetype": "text/x-python",
   "name": "python",
   "nbconvert_exporter": "python",
   "pygments_lexer": "ipython3",
   "version": "3.6.10"
  }
 },
 "nbformat": 4,
 "nbformat_minor": 4
}
